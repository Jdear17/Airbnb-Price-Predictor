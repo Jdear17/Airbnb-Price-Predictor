{
 "cells": [
  {
   "cell_type": "code",
   "execution_count": 1,
   "metadata": {},
   "outputs": [
    {
     "name": "stderr",
     "output_type": "stream",
     "text": [
      "/Users/jamesdear/opt/anaconda3/lib/python3.9/site-packages/scipy/__init__.py:146: UserWarning: A NumPy version >=1.16.5 and <1.23.0 is required for this version of SciPy (detected version 1.24.3\n",
      "  warnings.warn(f\"A NumPy version >={np_minversion} and <{np_maxversion}\"\n"
     ]
    }
   ],
   "source": [
    "import sys\n",
    "sys.path.append('../src')\n",
    "from data_processing import load_data, display_data_info, preprocess_data\n",
    "from feature_engineering import handle_missing_values, filter_outliers_by_room_type, feature_engineering\n",
    "from evaluation import evaluate_model\n",
    "from models import get_rf_model, get_xgb_model"
   ]
  },
  {
   "cell_type": "markdown",
   "metadata": {},
   "source": [
    "1+1"
   ]
  },
  {
   "cell_type": "code",
   "execution_count": 2,
   "metadata": {},
   "outputs": [],
   "source": [
    "import pandas as pd\n",
    "from geopy.distance import geodesic\n",
    "from sklearn.model_selection import train_test_split\n",
    "from sklearn.compose import ColumnTransformer\n",
    "from sklearn.preprocessing import StandardScaler, OneHotEncoder\n",
    "from sklearn.pipeline import Pipeline\n",
    "from sklearn.ensemble import RandomForestRegressor\n",
    "def preprocess_data(X,y):\n",
    "\n",
    "    categorical_features = ['room_type', 'neighbourhood']\n",
    "    numerical_features = ['availability_365', 'reviews_per_month', 'calculated_host_listings_count', 'distance_to_center']\n",
    "\n",
    "    X_train, X_test, y_train, y_test = train_test_split(X, y, test_size=0.2, random_state=42)\n",
    "\n",
    "    preprocessor = ColumnTransformer(\n",
    "        transformers=[\n",
    "            ('cat', OneHotEncoder(handle_unknown='ignore'), categorical_features)\n",
    "        ],\n",
    "        remainder='passthrough'  # keep numerical columns as-is\n",
    "    )\n",
    "\n",
    "    pipeline = Pipeline([\n",
    "        ('preprocessor', preprocessor),\n",
    "        ('model', get_rf_model())\n",
    "    ])\n",
    "    \n",
    "    return pipeline, X_train, X_test, y_train, y_test"
   ]
  },
  {
   "cell_type": "code",
   "execution_count": null,
   "metadata": {},
   "outputs": [],
   "source": []
  },
  {
   "cell_type": "code",
   "execution_count": 3,
   "metadata": {},
   "outputs": [
    {
     "name": "stdout",
     "output_type": "stream",
     "text": [
      "Data Info:\n",
      "<class 'pandas.core.frame.DataFrame'>\n",
      "RangeIndex: 69351 entries, 0 to 69350\n",
      "Data columns (total 13 columns):\n",
      " #   Column                          Non-Null Count  Dtype  \n",
      "---  ------                          --------------  -----  \n",
      " 0   id                              69351 non-null  float64\n",
      " 1   neighbourhood                   69351 non-null  object \n",
      " 2   latitude                        69351 non-null  float64\n",
      " 3   longitude                       69351 non-null  float64\n",
      " 4   room_type                       69351 non-null  object \n",
      " 5   price                           69351 non-null  int64  \n",
      " 6   minimum_nights                  69351 non-null  int64  \n",
      " 7   number_of_reviews               69351 non-null  int64  \n",
      " 8   last_review                     52571 non-null  object \n",
      " 9   reviews_per_month               52571 non-null  float64\n",
      " 10  calculated_host_listings_count  69351 non-null  int64  \n",
      " 11  availability_365                69351 non-null  int64  \n",
      " 12  number_of_reviews_ltm           69351 non-null  int64  \n",
      "dtypes: float64(4), int64(6), object(3)\n",
      "memory usage: 6.9+ MB\n",
      "None\n",
      "\n",
      "Data Description:\n",
      "                 id      latitude     longitude         price  minimum_nights  \\\n",
      "count  6.935100e+04  69351.000000  69351.000000  69351.000000    69351.000000   \n",
      "mean   1.373709e+17     51.509544     -0.128489    177.208822        5.997505   \n",
      "std    2.651491e+17      0.049182      0.100957    412.823024       25.709514   \n",
      "min    1.391300e+04     51.272480     -0.523600      0.000000        1.000000   \n",
      "25%    1.810090e+07     51.483140     -0.189520     55.000000        1.000000   \n",
      "50%    3.395467e+07     51.513600     -0.126200    100.000000        2.000000   \n",
      "75%    5.265645e+07     51.539710     -0.068550    180.000000        4.000000   \n",
      "max    7.120000e+17     51.708930      0.305150  25000.000000     1125.000000   \n",
      "\n",
      "       number_of_reviews  reviews_per_month  calculated_host_listings_count  \\\n",
      "count       69351.000000       52571.000000                    69351.000000   \n",
      "mean           17.537051           0.882593                       11.987498   \n",
      "std            40.410763           1.274510                       37.148839   \n",
      "min             0.000000           0.010000                        1.000000   \n",
      "25%             1.000000           0.120000                        1.000000   \n",
      "50%             4.000000           0.430000                        1.000000   \n",
      "75%            16.000000           1.080000                        4.000000   \n",
      "max          1141.000000          51.330000                      285.000000   \n",
      "\n",
      "       availability_365  number_of_reviews_ltm  \n",
      "count      69351.000000           69351.000000  \n",
      "mean         108.520266               4.734438  \n",
      "std          132.821088              12.032502  \n",
      "min            0.000000               0.000000  \n",
      "25%            0.000000               0.000000  \n",
      "50%           32.000000               0.000000  \n",
      "75%          228.000000               5.000000  \n",
      "max          365.000000             660.000000  \n",
      "\n",
      "Missing Values:\n",
      " last_review          16780\n",
      "reviews_per_month    16780\n",
      "dtype: int64\n"
     ]
    }
   ],
   "source": [
    "df = load_data('../data/raw/listingss.csv')\n",
    "display_data_info(df)\n",
    "df = handle_missing_values(df)\n",
    "df = filter_outliers_by_room_type(df)\n",
    "X,Y=feature_engineering(df)\n",
    "pipeline, X_train, X_test, y_train, y_test = preprocess_data(X, Y)"
   ]
  },
  {
   "cell_type": "code",
   "execution_count": null,
   "metadata": {},
   "outputs": [],
   "source": []
  },
  {
   "cell_type": "code",
   "execution_count": null,
   "metadata": {},
   "outputs": [],
   "source": []
  },
  {
   "cell_type": "code",
   "execution_count": 4,
   "metadata": {},
   "outputs": [
    {
     "data": {
      "text/plain": [
       "Pipeline(steps=[('preprocessor',\n",
       "                 ColumnTransformer(remainder='passthrough',\n",
       "                                   transformers=[('cat',\n",
       "                                                  OneHotEncoder(handle_unknown='ignore'),\n",
       "                                                  ['room_type',\n",
       "                                                   'neighbourhood'])])),\n",
       "                ('model',\n",
       "                 RandomForestRegressor(max_depth=10, n_jobs=-1,\n",
       "                                       random_state=42))])"
      ]
     },
     "execution_count": 4,
     "metadata": {},
     "output_type": "execute_result"
    }
   ],
   "source": [
    "pipeline.fit(X_train, y_train)"
   ]
  },
  {
   "cell_type": "code",
   "execution_count": 5,
   "metadata": {},
   "outputs": [
    {
     "name": "stdout",
     "output_type": "stream",
     "text": [
      "Mean Absolute Error: 46.28\n",
      "Mean Squared Error: 4791.97\n",
      "R² Score: 0.52\n"
     ]
    }
   ],
   "source": [
    "from sklearn.metrics import mean_absolute_error, mean_squared_error, r2_score\n",
    "\n",
    "y_pred = pipeline.predict(X_test)\n",
    "\n",
    "# Evaluate performance\n",
    "mae = mean_absolute_error(y_test, y_pred)\n",
    "mse = mean_squared_error(y_test, y_pred)\n",
    "r2 = r2_score(y_test, y_pred)\n",
    "\n",
    "print(f\"Mean Absolute Error: {mae:.2f}\")\n",
    "print(f\"Mean Squared Error: {mse:.2f}\")\n",
    "print(f\"R² Score: {r2:.2f}\")\n"
   ]
  },
  {
   "cell_type": "code",
   "execution_count": null,
   "metadata": {},
   "outputs": [],
   "source": []
  }
 ],
 "metadata": {
  "kernelspec": {
   "display_name": "base",
   "language": "python",
   "name": "python3"
  },
  "language_info": {
   "codemirror_mode": {
    "name": "ipython",
    "version": 3
   },
   "file_extension": ".py",
   "mimetype": "text/x-python",
   "name": "python",
   "nbconvert_exporter": "python",
   "pygments_lexer": "ipython3",
   "version": "3.9.12"
  }
 },
 "nbformat": 4,
 "nbformat_minor": 2
}
